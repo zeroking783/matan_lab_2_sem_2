{
 "cells": [
  {
   "cell_type": "markdown",
   "id": "378243c1",
   "metadata": {},
   "source": [
    "### Импортируем нужные библотеки"
   ]
  },
  {
   "cell_type": "code",
   "execution_count": 61,
   "id": "21291bc9",
   "metadata": {},
   "outputs": [],
   "source": [
    "import matplotlib.pyplot as plt\n",
    "import numpy as np"
   ]
  },
  {
   "cell_type": "markdown",
   "id": "f4fa52fa",
   "metadata": {},
   "source": [
    "### Пишем функции, которые будут возвращать массив значений f(x) у разных типов рядов Фурье"
   ]
  },
  {
   "cell_type": "code",
   "execution_count": 62,
   "id": "1c037651",
   "metadata": {},
   "outputs": [],
   "source": [
    "def f(x):\n",
    "    conditions = [\n",
    "        (x >= 0) & (x < 2),\n",
    "        (x >= 2) & (x <= 4)\n",
    "    ]\n",
    "    choices = [\n",
    "        x / 2,\n",
    "        1\n",
    "    ]\n",
    "    return np.select(conditions, choices, default=0)\n",
    "\n",
    "def f_chet(x):\n",
    "    conditions = [\n",
    "        (x >= 0) & (x < 2),\n",
    "        (x < 0) & (x >= -2),\n",
    "        (x >= 2) & (x <= 4),\n",
    "        (x >= -4) & (x < -2)\n",
    "    ]\n",
    "    choices = [\n",
    "        x / 2,\n",
    "        -x/2,\n",
    "        1,\n",
    "        1\n",
    "    ]\n",
    "    return np.select(conditions, choices, default=0)\n",
    "\n",
    "def f_nechet(x):\n",
    "    conditions = [\n",
    "        (x >= -2) & (x < 2),\n",
    "        (x >= 2) & (x <= 4),\n",
    "        (x >= -4) & (x < -2)\n",
    "    ]\n",
    "    choices = [\n",
    "        x / 2,\n",
    "        1,\n",
    "        -1\n",
    "    ]\n",
    "    return np.select(conditions, choices, default=0)"
   ]
  },
  {
   "cell_type": "markdown",
   "id": "5614eb5c",
   "metadata": {},
   "source": [
    "### Функции, которые вычисляют коэффициенты рядов"
   ]
  },
  {
   "cell_type": "code",
   "execution_count": 67,
   "id": "f321d194",
   "metadata": {},
   "outputs": [],
   "source": [
    "def a_k(k):\n",
    "    if k == 0:\n",
    "        return 3 / 4\n",
    "    elif k % 2 == 0:\n",
    "        return 0\n",
    "    else:\n",
    "        return -(2 / (np.pi**2 * k**2))\n",
    "\n",
    "def b_k(k):\n",
    "    return -(1 / (np.pi * k))"
   ]
  },
  {
   "cell_type": "markdown",
   "id": "f8affd6f",
   "metadata": {},
   "source": [
    "### Создаю массив, который наполнен значениями x"
   ]
  },
  {
   "cell_type": "code",
   "execution_count": 68,
   "id": "f6002ecb",
   "metadata": {},
   "outputs": [],
   "source": [
    "x_cos_sin = np.linspace(-4, 4, 1000)\n",
    "x = np.linspace(0, 4, 1000)"
   ]
  },
  {
   "cell_type": "markdown",
   "id": "a522b637",
   "metadata": {},
   "source": [
    "### Функции, которые будут вычислять сумму ряда для разных типов рядов Фурье"
   ]
  },
  {
   "cell_type": "code",
   "execution_count": 69,
   "id": "c46b4b9c",
   "metadata": {},
   "outputs": [],
   "source": [
    "def partial_sum_cosines(n, x_cos_sin):\n",
    "    a0 = a_k(0)\n",
    "    sum_cos = (a0 / 2) * np.ones_like(x_cos_sin)\n",
    "    for k in range(1, n + 1):\n",
    "        ak = a_k(k)\n",
    "        sum_cos += ak * np.cos((np.pi * k * x_cos_sin) / 2)\n",
    "    return sum_cos\n",
    "\n",
    "def partial_sum_sines(n, x_cos_sin):\n",
    "    sum_sin = np.zeros_like(x_cos_sin)\n",
    "    for k in range(1, n + 1):\n",
    "        bk = b_k(k)\n",
    "        sum_sin += bk * np.sin((np.pi * k * x_cos_sin) / 2)\n",
    "    return sum_sin\n",
    "\n",
    "def partial_sum_total(n, x):\n",
    "    a0 = a_k(0)\n",
    "    sum_total = a0 * np.ones_like(x)\n",
    "    for k in range(1, n + 1):\n",
    "        ak = a_k(k)\n",
    "        bk = b_k(k)\n",
    "        sum_total += ak * np.cos((np.pi * k * x) / 2) + bk * np.sin((np.pi * k * x) / 2)\n",
    "    return sum_total"
   ]
  },
  {
   "cell_type": "markdown",
   "id": "4fb923ef",
   "metadata": {},
   "source": [
    "### Функции, которые будут рисовать графики сумм рядов Фурье"
   ]
  },
  {
   "cell_type": "code",
   "execution_count": 70,
   "id": "7f641845",
   "metadata": {},
   "outputs": [],
   "source": [
    "def plot_partial_sums(n):\n",
    "    plt.figure(figsize=(15, 5))\n",
    "\n",
    "    plt.subplot(1, 3, 1)\n",
    "    plt.plot(x, partial_sum_total(n, x), label=f'n = {n}')\n",
    "    plt.plot(x, f(x), label='f(x)', linestyle='--')\n",
    "    plt.title('Общая сумма')\n",
    "    plt.xlabel('x')\n",
    "    plt.ylabel('Sum')\n",
    "    plt.legend()\n",
    "\n",
    "    plt.subplot(1, 3, 2)\n",
    "    plt.plot(x_cos_sin, partial_sum_cosines(n, x_cos_sin), label=f'n = {n}')\n",
    "    plt.plot(x_cos_sin, f_chet(x_cos_sin), label='f(x)', linestyle='--')\n",
    "    plt.title('Сумма по cos')\n",
    "    plt.xlabel('x')\n",
    "    plt.ylabel('Sum')\n",
    "    plt.legend()\n",
    "\n",
    "    plt.subplot(1, 3, 3)\n",
    "    plt.plot(x_cos_sin, partial_sum_sines(n, x_cos_sin), label=f'n = {n}')\n",
    "    plt.plot(x_cos_sin, f_nechet(x_cos_sin), label='f(x)', linestyle='--')\n",
    "    plt.title('Сумма по sin')\n",
    "    plt.xlabel('x')\n",
    "    plt.ylabel('Sum')\n",
    "    plt.legend()\n",
    "\n",
    "    plt.tight_layout()\n",
    "    plt.show()"
   ]
  },
  {
   "cell_type": "markdown",
   "id": "85e66982",
   "metadata": {},
   "source": [
    "### Задаем количество слогаемых и запускам функцию, которая рисует графики"
   ]
  },
  {
   "cell_type": "code",
   "execution_count": null,
   "id": "43aa7fd6",
   "metadata": {},
   "outputs": [],
   "source": [
    "n = 100\n",
    "plot_partial_sums(n)"
   ]
  }
 ],
 "metadata": {
  "kernelspec": {
   "display_name": "Python 3 (ipykernel)",
   "language": "python",
   "name": "python3"
  },
  "language_info": {
   "codemirror_mode": {
    "name": "ipython",
    "version": 3
   },
   "file_extension": ".py",
   "mimetype": "text/x-python",
   "name": "python",
   "nbconvert_exporter": "python",
   "pygments_lexer": "ipython3",
   "version": "3.11.9"
  }
 },
 "nbformat": 4,
 "nbformat_minor": 5
}
